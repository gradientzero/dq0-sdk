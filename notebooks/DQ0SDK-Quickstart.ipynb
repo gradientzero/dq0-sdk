{
 "cells": [
  {
   "cell_type": "markdown",
   "metadata": {},
   "source": [
    "# DQ0 SDK Demo\n",
    "## Prerequistes\n",
    "* Installed DQ0 SDK. Install with `pip install dq0-sdk`\n",
    "* Installed DQ0 CLI.\n",
    "* Proxy running and registered from the DQ0 CLI with `dq0 proxy add ...`\n",
    "* Valid session of DQ0. Log in with `dq0 user login`\n",
    "* Running instance of DQ0 CLI server: `dq0 server start`"
   ]
  },
  {
   "cell_type": "markdown",
   "metadata": {},
   "source": [
    "## Concept\n",
    "The two main structures to work with DQ0 quarantine via the DQ0 SDK are\n",
    "* Project - the current model environment, a workspace and directory the user can define models in. Project also provides access to trained models.\n",
    "* Experiment - the DQ0 runtime to execute training runs in the remote quarantine."
   ]
  },
  {
   "cell_type": "markdown",
   "metadata": {},
   "source": [
    "Start by importing the core classes"
   ]
  },
  {
   "cell_type": "code",
   "execution_count": null,
   "metadata": {},
   "outputs": [],
   "source": [
    "# ensure we are in the dq0-sdk directory\n",
    "%cd ../"
   ]
  },
  {
   "cell_type": "code",
   "execution_count": null,
   "metadata": {},
   "outputs": [],
   "source": [
    "# import dq0-sdk api\n",
    "from dq0.sdk.cli import Project, Experiment"
   ]
  },
  {
   "cell_type": "markdown",
   "metadata": {},
   "source": [
    "## 1a. Create a project\n",
    "Projects act as the working environment for model development.\n",
    "Each project has a model directory with a .meta file containing the model uuid, attached data sources etc.\n",
    "Creating a project with `Project.create(name='model_1')` is equivalent to calling the DQ0 Cli command `dq0 project create model_1`. Note that this newly created project only exists locally on your filesystem as long as you dont start a run or commit/deploy manually."
   ]
  },
  {
   "cell_type": "code",
   "execution_count": null,
   "metadata": {
    "scrolled": true
   },
   "outputs": [],
   "source": [
    "# create a project with name 'model_1' and type 'ml', which will provide us a \n",
    "# project template for machine learning purposes. \n",
    "# Automatically creates the 'model_1' directory and changes to this directory.\n",
    "project = Project(name='model_1', project_type='ml')"
   ]
  },
  {
   "cell_type": "markdown",
   "metadata": {},
   "source": [
    "We chose to create this project using the default machine learning template. This will define several entry points for executing runs in an *MLproject* file, including:\n",
    "\n",
    "- my_model.py:\n",
    "A model training demo with DQ0's Differential Privacy Module (dq0.makedp). Uses DQ0's census dataset.\n",
    "\n",
    "- mlflow_quickstart.py:\n",
    "A simple Python module to run any code with DQ0's managed mlflow.\n",
    "\n",
    "- keras_model_simple.py:\n",
    "A simple model training example without using DQ0's Differential Privacy Module (dq0.makedp)\n",
    "\n",
    "- transform.py:\n",
    "A basic data transformation module for creating new transformed datasets in DQ0. Uses DQ0's census dataset."
   ]
  },
  {
   "cell_type": "markdown",
   "metadata": {},
   "source": [
    "## 1b. Load a project\n",
    "Alternatively, you can load an existing project by first cd'ing into this directory and then call Project.load()\n",
    "This will read in the .meta file of this directory"
   ]
  },
  {
   "cell_type": "code",
   "execution_count": null,
   "metadata": {},
   "outputs": [],
   "source": [
    "%cd ../dq0-cli/census"
   ]
  },
  {
   "cell_type": "code",
   "execution_count": null,
   "metadata": {},
   "outputs": [],
   "source": [
    "# Alternative: load a project from the current model directory\n",
    "project = Project.load()"
   ]
  },
  {
   "cell_type": "code",
   "execution_count": null,
   "metadata": {
    "scrolled": true
   },
   "outputs": [],
   "source": [
    "project.project_uuid"
   ]
  },
  {
   "cell_type": "markdown",
   "metadata": {},
   "source": [
    "## 2. Check data sources\n",
    "New projects, by default, have all available datasets already attached to them. These data sources are typically defined by the data owner."
   ]
  },
  {
   "cell_type": "code",
   "execution_count": null,
   "metadata": {},
   "outputs": [],
   "source": [
    "# first get some info about available data sources\n",
    "sources = project.get_available_data_sources()\n",
    "\n",
    "# get info about the first source\n",
    "info = project.get_data_info(sources[0])\n",
    "info # make sure this is the census dataset"
   ]
  },
  {
   "cell_type": "markdown",
   "metadata": {},
   "source": [
    "Get the dataset description:"
   ]
  },
  {
   "cell_type": "code",
   "execution_count": null,
   "metadata": {},
   "outputs": [],
   "source": [
    "# print data description\n",
    "info['data_description']"
   ]
  },
  {
   "cell_type": "markdown",
   "metadata": {},
   "source": [
    "Also, inspect the data column types including allowed values for feature generation:"
   ]
  },
  {
   "cell_type": "code",
   "execution_count": null,
   "metadata": {},
   "outputs": [],
   "source": [
    "# print information about column types and values\n",
    "info['data_type']"
   ]
  },
  {
   "cell_type": "markdown",
   "metadata": {},
   "source": [
    "If you want to detach a dataset, type the following:"
   ]
  },
  {
   "cell_type": "code",
   "execution_count": null,
   "metadata": {
    "scrolled": true
   },
   "outputs": [],
   "source": [
    "# if you want to detach some data\n",
    "# project.detach_data_source(sources[0])"
   ]
  },
  {
   "cell_type": "markdown",
   "metadata": {},
   "source": [
    "## 3. Create Experiment\n",
    "To execute DQ0 training commands inside the quarantine you define experiments for your projects.\n",
    "You can create as many experiments as you like for one project."
   ]
  },
  {
   "cell_type": "code",
   "execution_count": null,
   "metadata": {},
   "outputs": [],
   "source": [
    "# Create experiment for project\n",
    "experiment = Experiment(project=project, name='experiment_1')"
   ]
  },
  {
   "cell_type": "markdown",
   "metadata": {},
   "source": [
    "## 4. Create a training run using dq0-makedp\n",
    "Working with DQ0 is basically about defining two functions:\n",
    "* setup_data() - called right before model training to prepare attached data sources\n",
    "* setup_model() - actual model definition code\n",
    "\n",
    "The easiest way to define those functions is to write them in the notebook (inline) and pass them to the project before starting a run. Alternatively, the user can write the complete user_model.py to the project's directory.\n",
    "\n",
    "The machine learning project template ('ml') we chose earlier when creating the project already includes these classes for us. They can be found and adjusted in the project folder. We will continue with the template code in this tutorial."
   ]
  },
  {
   "cell_type": "markdown",
   "metadata": {},
   "source": [
    "To start a run, we call experiment.run(args, datasets) which in turn calls the Cli commands `dq0 project commit` and `dq0 commit run`."
   ]
  },
  {
   "cell_type": "code",
   "execution_count": null,
   "metadata": {},
   "outputs": [],
   "source": [
    "# set run parameters\n",
    "args = {\n",
    "    'DP-epsilon': \"1\",\n",
    "    'entry-point': \"train_dq0_makedp\",\n",
    "    'job-type': \"commit.run.train\",\n",
    "    'module-path': \"my_model.py\",\n",
    "}\n",
    "\n",
    "# define datasets for this run - we choose to run it on only one dataset. \n",
    "datasets = [sources[4]]\n",
    "\n",
    "run = experiment.run(args, datasets=datasets)"
   ]
  },
  {
   "cell_type": "markdown",
   "metadata": {},
   "source": [
    "train is executed asynchronously. You can wait for the run to complete or get the state with get_state:\n",
    "(TBD: in the future there could by a jupyter extension that shows the run progress in a widget.)"
   ]
  },
  {
   "cell_type": "code",
   "execution_count": null,
   "metadata": {},
   "outputs": [],
   "source": [
    "# wait for completion\n",
    "run.wait_for_completion(verbose=True)"
   ]
  },
  {
   "cell_type": "markdown",
   "metadata": {},
   "source": [
    "When the run has completed you can retrieve the results:"
   ]
  },
  {
   "cell_type": "code",
   "execution_count": null,
   "metadata": {
    "scrolled": true
   },
   "outputs": [],
   "source": [
    "# get training results\n",
    "print(run.get_results())"
   ]
  },
  {
   "cell_type": "code",
   "execution_count": null,
   "metadata": {
    "scrolled": true
   },
   "outputs": [],
   "source": [
    "# if an error occured, you can query it with\n",
    "run.get_error()"
   ]
  },
  {
   "cell_type": "markdown",
   "metadata": {},
   "source": [
    "After train dq0 will run the model checker to evaluate if the trained model is safe and allowed for prediction. Get the state of the checker run together with the other state information with the get_state() function:"
   ]
  },
  {
   "cell_type": "code",
   "execution_count": null,
   "metadata": {},
   "outputs": [],
   "source": [
    "# get the state whenever you like\n",
    "print(run.get_state())"
   ]
  },
  {
   "cell_type": "markdown",
   "metadata": {},
   "source": [
    "## Predict\n",
    "Finally, it's time to use the trained model to predict something"
   ]
  },
  {
   "cell_type": "code",
   "execution_count": null,
   "metadata": {},
   "outputs": [],
   "source": [
    "import numpy as np\n",
    "import pandas as pd\n",
    "\n",
    "# check DQ0 privacy clearing\n",
    "if model.predict_allowed:\n",
    "\n",
    "    # create predict set\n",
    "    records = [\n",
    "        {\n",
    "            'lastname': 'some-lastname',\n",
    "            'firstname': 'some-firstname',\n",
    "            'age': 45,\n",
    "            'workclass':'Private',\n",
    "            'fnlwgt': 544091,\n",
    "            'education': 'HS-grad',\n",
    "            'education-num': 9,\n",
    "            'marital-status': 'Married-AF-spouse',\n",
    "            'occupation': 'Exec-managerial',\n",
    "            'relationship': 'Wife',\n",
    "            'race': 'White',\n",
    "            'sex': 'Female',\n",
    "            'capital-gain': 0,\n",
    "            'capital-loss': 0,\n",
    "            'hours-per-week': 25,\n",
    "            'native-country': 'United-States',\n",
    "            'income': '<=50K'\n",
    "        },\n",
    "        {\n",
    "            'lastname': 'some-lastname',\n",
    "            'firstname': 'some-firstname',\n",
    "            'age': 29,\n",
    "            'workclass': 'Federal-gov',\n",
    "            'fnlwgt': 162298,\n",
    "            'education': 'Masters',\n",
    "            'education-num': 14,\n",
    "            'marital-status': 'Married-civ-spouse',\n",
    "            'occupation': 'Exec-managerial',\n",
    "            'relationship': 'Husband',\n",
    "            'race': 'White',\n",
    "            'sex': 'Male',\n",
    "            'capital-gain': 34084,\n",
    "            'capital-loss': 0,\n",
    "            'hours-per-week': 70,\n",
    "            'native-country': 'United-States',\n",
    "            'income': '<=50K'\n",
    "        }\n",
    "    ]\n",
    "    dataset = pd.DataFrame.from_records(records)\n",
    "    \n",
    "    # drop target (included above only because of compatability with preprocess function)\n",
    "    dataset.drop(['income'], axis=1, inplace=True)\n",
    "\n",
    "    # load or get numpy predict data\n",
    "    # predict_data = np.load(‘X_demo_predict.npy’)\n",
    "    predict_data = dataset.to_numpy()\n",
    "\n",
    "    # call predict\n",
    "    #run = model.predict(predict_data)\n",
    "    run = model.predict(predict_data)\n",
    "\n",
    "    # wait for completion\n",
    "    run.wait_for_completion(verbose=True)"
   ]
  },
  {
   "cell_type": "code",
   "execution_count": null,
   "metadata": {
    "scrolled": true
   },
   "outputs": [],
   "source": [
    "# get predict results\n",
    "print(run.get_results())"
   ]
  }
 ],
 "metadata": {
  "kernelspec": {
   "display_name": "Python 3",
   "language": "python",
   "name": "python3"
  },
  "language_info": {
   "codemirror_mode": {
    "name": "ipython",
    "version": 3
   },
   "file_extension": ".py",
   "mimetype": "text/x-python",
   "name": "python",
   "nbconvert_exporter": "python",
   "pygments_lexer": "ipython3",
   "version": "3.7.7"
  }
 },
 "nbformat": 4,
 "nbformat_minor": 4
}
