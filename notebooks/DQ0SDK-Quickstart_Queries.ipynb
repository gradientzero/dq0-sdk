{
 "cells": [
  {
   "cell_type": "markdown",
   "metadata": {},
   "source": [
    "# Querying Data in DQ0 Demo\n",
    "\n",
    "In order to query data you will need:\n",
    "* Installed DQ0 SDK. Install with `pip install dq0-sdk`\n",
    "* Installed DQ0 CLI.\n",
    "* Proxy running and registered from the DQ0 CLI with `dq0 proxy add ...`\n",
    "* Valid session of DQ0. Log in with `dq0 user login`\n",
    "* Running instance of DQ0 CLI server: `dq0 server start`\n",
    "\n",
    "* DQ0 Project with Data attached to it - ideally using a database backend like PostgreSQL.\n",
    "Keep in mind that a query is always executed within the context of a project.\n",
    "\n",
    "Start by importing the core classes"
   ]
  },
  {
   "cell_type": "code",
   "execution_count": null,
   "metadata": {},
   "outputs": [],
   "source": [
    "%cd ../"
   ]
  },
  {
   "cell_type": "code",
   "execution_count": null,
   "metadata": {},
   "outputs": [],
   "source": [
    "# import dq0-sdk api\n",
    "from dq0.sdk.cli import Project, Data, Query"
   ]
  },
  {
   "cell_type": "markdown",
   "metadata": {},
   "source": [
    "## 1. Create or load a project\n",
    "Let's create a new project for our query use case."
   ]
  },
  {
   "cell_type": "code",
   "execution_count": null,
   "metadata": {},
   "outputs": [],
   "source": [
    "# create a project with name 'query_1'. Automatically creates the 'query_1' directory and changes to this directory.\n",
    "project = Project(name='query_1', project_type='query')"
   ]
  },
  {
   "cell_type": "markdown",
   "metadata": {},
   "source": [
    "Alternatively, you can load an existing project by first cd'ing into this directory and then call Project.load()\n",
    "This will read in the .meta file of this directory."
   ]
  },
  {
   "cell_type": "code",
   "execution_count": null,
   "metadata": {},
   "outputs": [],
   "source": [
    "# %cd ../dq0-cli/MyNewProject"
   ]
  },
  {
   "cell_type": "code",
   "execution_count": null,
   "metadata": {},
   "outputs": [],
   "source": [
    "# Alternative: load a project from the current model directory\n",
    "# project = Project.load()"
   ]
  },
  {
   "cell_type": "markdown",
   "metadata": {},
   "source": [
    "Check if the project was successfully set up by checking it's UUID. If this field is empty, something went wrong."
   ]
  },
  {
   "cell_type": "code",
   "execution_count": null,
   "metadata": {},
   "outputs": [],
   "source": [
    "project.project_uuid"
   ]
  },
  {
   "cell_type": "markdown",
   "metadata": {},
   "source": [
    "## 2. Check the data source\n",
    "\n",
    "All datasets should already be attached. You will need a valid dataset for this demo, ideally using a database backend."
   ]
  },
  {
   "cell_type": "code",
   "execution_count": null,
   "metadata": {},
   "outputs": [],
   "source": [
    "# first get some info about available data sources\n",
    "sources = Data.get_available_data_sources()\n",
    "\n",
    "# get info about the first source\n",
    "info = Data.get_data_info(sources[0])\n",
    "info"
   ]
  },
  {
   "cell_type": "code",
   "execution_count": null,
   "metadata": {
    "scrolled": false
   },
   "outputs": [],
   "source": [
    "# print information about column types and values, description. This may be helpful for creating your queries.\n",
    "info['data_name']"
   ]
  },
  {
   "cell_type": "code",
   "execution_count": null,
   "metadata": {},
   "outputs": [],
   "source": [
    "info['data_type']"
   ]
  },
  {
   "cell_type": "code",
   "execution_count": null,
   "metadata": {},
   "outputs": [],
   "source": [
    "info['data_description']"
   ]
  },
  {
   "cell_type": "code",
   "execution_count": null,
   "metadata": {},
   "outputs": [],
   "source": [
    "# set data\n",
    "data = sources[0]\n",
    "\n",
    "# alternatively, if you already know the name of the dataset:\n",
    "# data = Data('name_of_dataset')"
   ]
  },
  {
   "cell_type": "markdown",
   "metadata": {},
   "source": [
    "## 3. Create Query\n",
    "\n",
    "Once we have a project with data attached to it we can create our query. Think of this object like a query manager that can create multiple query runs."
   ]
  },
  {
   "cell_type": "code",
   "execution_count": null,
   "metadata": {},
   "outputs": [],
   "source": [
    "query = Query(project)"
   ]
  },
  {
   "cell_type": "markdown",
   "metadata": {},
   "source": [
    "Now we can use this Query instance to start the actual query runs. But first we must specify which datasets we want to query:"
   ]
  },
  {
   "cell_type": "code",
   "execution_count": null,
   "metadata": {},
   "outputs": [],
   "source": [
    "query.for_data(data)"
   ]
  },
  {
   "cell_type": "markdown",
   "metadata": {},
   "source": [
    "Prepare your query statement."
   ]
  },
  {
   "cell_type": "code",
   "execution_count": null,
   "metadata": {},
   "outputs": [],
   "source": [
    "stmt = \"\"\"SELECT SUM(active_complaint), \n",
    "    COUNT(*) as tx_count, c.loyalty_tiers \n",
    "    FROM LR.cpg_segments as c \n",
    "    WHERE c.loyalty_tiers = 'silver' \n",
    "    AND c.active_complaint > 0 \n",
    "    GROUP BY loyalty_tiers \n",
    "    ORDER BY tx_count \n",
    "    DESC LIMIT 600\"\"\""
   ]
  },
  {
   "cell_type": "markdown",
   "metadata": {},
   "source": [
    "## Execute query\n",
    "We can now pass this statement to execute() method, which returns a new QueryRunner instance. We will use this to check our queries progress/state and results. Keep in mind that queries are executed asynchronously. "
   ]
  },
  {
   "cell_type": "code",
   "execution_count": null,
   "metadata": {},
   "outputs": [],
   "source": [
    "args = {\n",
    "    'entry-point': 'execute',\n",
    "    'epsilon': '100',\n",
    "    'private-column': 'idl',\n",
    "    'tau': '0'\n",
    "}\n",
    "run = query.execute(stmt, args)"
   ]
  },
  {
   "cell_type": "code",
   "execution_count": null,
   "metadata": {
    "scrolled": true
   },
   "outputs": [],
   "source": [
    "# check status\n",
    "run.get_state()\n",
    "\n",
    "# Or wait for the query to finish - careful, this may take a while!\n",
    "run.wait_for_completion(verbose=True)\n",
    "\n",
    "# Once its finished, we can get the results\n",
    "result = run.get_results()\n",
    "print(result)"
   ]
  },
  {
   "cell_type": "code",
   "execution_count": null,
   "metadata": {},
   "outputs": [],
   "source": [
    "run.get_error()"
   ]
  },
  {
   "cell_type": "markdown",
   "metadata": {},
   "source": [
    "#### Displaying Errors\n",
    "\n",
    "Of course, not all of your queries will finish without errors. If get_state returns an 'error', call the .get_error() method to show some more details:"
   ]
  },
  {
   "cell_type": "code",
   "execution_count": null,
   "metadata": {
    "scrolled": true
   },
   "outputs": [],
   "source": [
    "run2 = query.execute('foo', args)\n",
    "run2.wait_for_completion()\n",
    "run2.get_error()"
   ]
  },
  {
   "cell_type": "markdown",
   "metadata": {},
   "source": [
    "#### Setting query parameters\n",
    "The above run uses the default parameters defined by the execute() method for this query. These are:\n",
    "\n",
    "    * epsilon: float; Epsilon value for differential private query. Default: 1.0\n",
    "            \n",
    "    * tau: float; Tau threshold value for private query. Default: 0.0\n",
    "            \n",
    "    * private_column: string; Private column for this query. Leave empty or omit for default value from metadata.\n",
    "\n",
    "Naturally we can adjust these:"
   ]
  },
  {
   "cell_type": "code",
   "execution_count": null,
   "metadata": {},
   "outputs": [],
   "source": [
    "run3 = query.execute(stmt, epsilon=1.5, tau=100, private_column='idl')\n",
    "run3.wait_for_completion(verbose=True)\n",
    "run3.get_results()\n",
    "# the results are now also stored in run2.state.results"
   ]
  },
  {
   "cell_type": "markdown",
   "metadata": {},
   "source": [
    "#### Visualizing results\n",
    "The get_results() method returns the raw result payload as a string. Usually, this payload comes in CSV format. Here we pandas to display this data."
   ]
  },
  {
   "cell_type": "code",
   "execution_count": null,
   "metadata": {
    "scrolled": true
   },
   "outputs": [],
   "source": [
    "import pandas as pd\n",
    "from io import StringIO\n",
    "\n",
    "result_str = run3.state.results\n",
    "\n",
    "df = pd.read_csv(StringIO(result_str))\n",
    "df"
   ]
  }
 ],
 "metadata": {
  "kernelspec": {
   "display_name": "Python 3",
   "language": "python",
   "name": "python3"
  },
  "language_info": {
   "codemirror_mode": {
    "name": "ipython",
    "version": 3
   },
   "file_extension": ".py",
   "mimetype": "text/x-python",
   "name": "python",
   "nbconvert_exporter": "python",
   "pygments_lexer": "ipython3",
   "version": "3.7.7"
  }
 },
 "nbformat": 4,
 "nbformat_minor": 4
}
