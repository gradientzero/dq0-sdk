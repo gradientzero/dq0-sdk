{
 "cells": [
  {
   "cell_type": "markdown",
   "metadata": {},
   "source": [
    "## Querying Data\n",
    "\n",
    "In order to query data you will need:\n",
    "* Installed DQ0 SDK. Install with `pip install dq0-sdk`\n",
    "* Installed DQ0 CLI.\n",
    "* Proxy running and registered from the DQ0 CLI with `dq0-cli proxy add ...`\n",
    "* Valid session of DQ0. Log in with `dq0 user login`\n",
    "* Running instance of DQ0 CLI server: `dq0 server start`\n",
    "\n",
    "* DQ0 Project with Data attached to it.\n",
    "Keep in mind that a query is always executed within the context of a project.\n",
    "\n",
    "Start by importing the core classes"
   ]
  },
  {
   "cell_type": "code",
   "execution_count": 1,
   "metadata": {},
   "outputs": [
    {
     "name": "stdout",
     "output_type": "stream",
     "text": [
      "/Users/dominic/Projects/dq0-sdk\n"
     ]
    }
   ],
   "source": [
    "%cd ../"
   ]
  },
  {
   "cell_type": "code",
   "execution_count": 2,
   "metadata": {},
   "outputs": [],
   "source": [
    "# import dq0-sdk api\n",
    "from dq0.sdk.cli import Project, Data, Query"
   ]
  },
  {
   "cell_type": "markdown",
   "metadata": {},
   "source": [
    "## Create or load a project\n",
    "Projects act as the working environment for model development.\n",
    "Each project has a model directory with a .meta file containing the model uuid, attached data sources etc.\n",
    "Creating a project with `Project.create(name='model_1')` is equivalent to calling the DQ0 Cli command `dq0-cli project create model_1`.\n",
    "Alternatively, if you want to load an existing project, navigate your current working directory to the project directory so you can use the Project.load() method."
   ]
  },
  {
   "cell_type": "code",
   "execution_count": 3,
   "metadata": {},
   "outputs": [],
   "source": [
    "# create a project with name 'model_1'. Automatically creates the 'model_1' directory and changes to this directory.\n",
    "# project = Project(name='project_1')"
   ]
  },
  {
   "cell_type": "markdown",
   "metadata": {},
   "source": [
    "## Load a project\n",
    "Alternatively, you can load an existing project by first cd'ing into this directory and then call Project.load()\n",
    "This will read in the .meta file of this directory."
   ]
  },
  {
   "cell_type": "code",
   "execution_count": 22,
   "metadata": {},
   "outputs": [
    {
     "name": "stdout",
     "output_type": "stream",
     "text": [
      "[Errno 20] Not a directory: '../dq0-cli/MyNewProject'\n",
      "/Users/dominic/go/src/dq0-cli/MyNewProject\n"
     ]
    }
   ],
   "source": [
    "%cd ../dq0-cli/MyNewProject"
   ]
  },
  {
   "cell_type": "code",
   "execution_count": 5,
   "metadata": {},
   "outputs": [],
   "source": [
    "# Alternative: load a project from the current model directory\n",
    "project = Project.load()"
   ]
  },
  {
   "cell_type": "markdown",
   "metadata": {},
   "source": [
    "Check if the project was successfully set up by checking it's UUID. If this field is empty, something went wrong."
   ]
  },
  {
   "cell_type": "code",
   "execution_count": 6,
   "metadata": {},
   "outputs": [
    {
     "data": {
      "text/plain": [
       "'04a74fa8-8af0-4fb5-82c5-06e6966702fe'"
      ]
     },
     "execution_count": 6,
     "metadata": {},
     "output_type": "execute_result"
    }
   ],
   "source": [
    "project.project_uuid"
   ]
  },
  {
   "cell_type": "markdown",
   "metadata": {},
   "source": [
    "## Get and attach data source\n",
    "For new projects you need to attach a data source. Existing (loaded) projects usually already have data sources attached."
   ]
  },
  {
   "cell_type": "code",
   "execution_count": 7,
   "metadata": {},
   "outputs": [
    {
     "data": {
      "text/plain": [
       "{'commit_uuid': '360ac136-c6a1-4ff6-9328-37b66ebb23c4',\n",
       " 'data_uuid': 'b1ed3b6c-1a71-4597-98ec-6583e1b4ee99',\n",
       " 'data_name': 'cpg_segments',\n",
       " 'data_type': 'CSV',\n",
       " 'data_description': 'some description',\n",
       " 'privacy_budget': {'initial': 1000,\n",
       "  'current': 994,\n",
       "  'created_at': 1610619263,\n",
       "  'updated_at': 1610622299},\n",
       " 'data_usage': 89,\n",
       " 'data_privacy_column': 'idl',\n",
       " 'data_size': 1000,\n",
       " 'data_meta': 'bmFtZTogY3BnX3NlZ21lbnRzCmRlc2NyaXB0aW9uOiBzb21lIGRlc2NyaXB0aW9uCnR5cGU6IENTVgpjb25uZWN0aW9uOiBmaWxlOi8vL1VzZXJzL2RvbWluaWMvUHJvamVjdHMvZHEwLXNxbC90ZXN0cy9kYXRhL2NwZ19zZWdtZW50cy5jc3YKcHJpdmFjeV9idWRnZXQ6IDEwMDAKcHJpdmFjeV9idWRnZXRfaW50ZXJ2YWxfZGF5czogMzAKc3ludGhfYWxsb3dlZDogZmFsc2UKcHJpdmFjeV9sZXZlbDogMgpwcml2YWN5X2NvbHVtbjogaWRsCnNpemU6IDEwMDAKTFI6CiAgY3BnX3NlZ21lbnRzOgogICAgcm93X3ByaXZhY3k6IGZhbHNlCiAgICByb3dzOiAxMDAwCiAgICBtYXhfaWRzOiAxCiAgICBzYW1wbGVfbWF4X2lkczogdHJ1ZQogICAgY2Vuc29yX2RpbXM6IHRydWUKICAgIGNsYW1wX2NvdW50czogZmFsc2UKICAgIGNsYW1wX2NvbHVtbnM6IHRydWUKICAgIGlkbDoKICAgICAgcHJpdmF0ZV9pZDogdHJ1ZQogICAgICB0eXBlOiBzdHJpbmcKICAgIGFjdGl2ZV9jb21wbGFpbnQ6CiAgICAgIHR5cGU6IGludAogICAgbG95YWx0eV90aWVyczoKICAgICAgdHlwZTogc3RyaW5nCg==',\n",
       " 'created_at': 1610619263,\n",
       " 'updated_at': 1610619263}"
      ]
     },
     "execution_count": 7,
     "metadata": {},
     "output_type": "execute_result"
    }
   ],
   "source": [
    "# first get some info about available data sources\n",
    "sources = Data.get_available_data_sources()\n",
    "\n",
    "# get info about the first source\n",
    "info = Data.get_data_info(sources[1])\n",
    "info"
   ]
  },
  {
   "cell_type": "code",
   "execution_count": 8,
   "metadata": {
    "scrolled": false
   },
   "outputs": [
    {
     "data": {
      "text/plain": [
       "'cpg_segments'"
      ]
     },
     "execution_count": 8,
     "metadata": {},
     "output_type": "execute_result"
    }
   ],
   "source": [
    "# print information about column types and values, description. This may be helpful for creating your queries.\n",
    "info['data_name']"
   ]
  },
  {
   "cell_type": "code",
   "execution_count": 9,
   "metadata": {},
   "outputs": [
    {
     "data": {
      "text/plain": [
       "'CSV'"
      ]
     },
     "execution_count": 9,
     "metadata": {},
     "output_type": "execute_result"
    }
   ],
   "source": [
    "info['data_type']"
   ]
  },
  {
   "cell_type": "code",
   "execution_count": 10,
   "metadata": {},
   "outputs": [
    {
     "data": {
      "text/plain": [
       "'some description'"
      ]
     },
     "execution_count": 10,
     "metadata": {},
     "output_type": "execute_result"
    }
   ],
   "source": [
    "info['data_description']"
   ]
  },
  {
   "cell_type": "markdown",
   "metadata": {},
   "source": [
    "Suppose are happy with this information and now want to query this dataset in our project."
   ]
  },
  {
   "cell_type": "code",
   "execution_count": 11,
   "metadata": {},
   "outputs": [],
   "source": [
    "# set data\n",
    "data = sources[1]\n",
    "\n",
    "# alternatively, if you already know the name of the dataset:\n",
    "# data = Data('name_of_dataset')"
   ]
  },
  {
   "cell_type": "markdown",
   "metadata": {},
   "source": [
    "### New projects\n",
    "For new projects, we need to attach this data source first."
   ]
  },
  {
   "cell_type": "code",
   "execution_count": 12,
   "metadata": {},
   "outputs": [
    {
     "name": "stdout",
     "output_type": "stream",
     "text": [
      "data is already attached to project\n"
     ]
    }
   ],
   "source": [
    "project.attach_data_source(data=data)"
   ]
  },
  {
   "cell_type": "markdown",
   "metadata": {},
   "source": [
    "### Existing projects\n",
    "For existing projects, we need to check whether the dataset of interest is already attached to our project."
   ]
  },
  {
   "cell_type": "code",
   "execution_count": 13,
   "metadata": {},
   "outputs": [],
   "source": [
    "project.get_attached_data_sources()"
   ]
  },
  {
   "cell_type": "markdown",
   "metadata": {},
   "source": [
    "## Create Query\n",
    "\n",
    "Once we have a project with data attached to it we can create our query. Think of this object like a query manager that can create multiple query runs."
   ]
  },
  {
   "cell_type": "code",
   "execution_count": 14,
   "metadata": {},
   "outputs": [],
   "source": [
    "query = Query(project)"
   ]
  },
  {
   "cell_type": "markdown",
   "metadata": {},
   "source": [
    "Now we can use this Query instance to start the actual query runs. But first we must specify which datasets we want to query:"
   ]
  },
  {
   "cell_type": "code",
   "execution_count": 15,
   "metadata": {},
   "outputs": [
    {
     "data": {
      "text/plain": [
       "<dq0.sdk.cli.query.Query at 0x7ff67dce6ed0>"
      ]
     },
     "execution_count": 15,
     "metadata": {},
     "output_type": "execute_result"
    }
   ],
   "source": [
    "query.for_data(data)"
   ]
  },
  {
   "cell_type": "markdown",
   "metadata": {},
   "source": [
    "Prepare your query statement."
   ]
  },
  {
   "cell_type": "code",
   "execution_count": 16,
   "metadata": {},
   "outputs": [],
   "source": [
    "stmt = \"\"\"SELECT SUM(active_complaint), COUNT(*) as tx_count, c.loyalty_tiers FROM LR.cpg_segments as c WHERE c.loyalty_tiers = 'silver' AND c.active_complaint > 0 GROUP BY loyalty_tiers ORDER BY tx_count DESC LIMIT 600\"\"\""
   ]
  },
  {
   "cell_type": "markdown",
   "metadata": {},
   "source": [
    "## Execute query\n",
    "We can now pass this statement to execute() method, which returns a new QueryRunner instance. We will use this to check our queries progress/state and results. Keep in mind that queries are executed asynchronously. "
   ]
  },
  {
   "cell_type": "code",
   "execution_count": 17,
   "metadata": {},
   "outputs": [],
   "source": [
    "run = query.execute(stmt)"
   ]
  },
  {
   "cell_type": "code",
   "execution_count": 18,
   "metadata": {
    "scrolled": true
   },
   "outputs": [
    {
     "name": "stdout",
     "output_type": "stream",
     "text": [
      "running\n",
      "Waiting for job to complete...\n",
      "finished\n",
      "finished\n",
      "Job completed\n",
      "finished\n",
      "0x7be3,tx_count,c_loyalty_tiers\n",
      "2556,2561,silver\n",
      "\n"
     ]
    }
   ],
   "source": [
    "# check status\n",
    "run.get_state()\n",
    "\n",
    "# Or wait for the query to finish - careful, this may take a while!\n",
    "run.wait_for_completion(verbose=True)\n",
    "\n",
    "# Once its finished, we can get the results\n",
    "result = run.get_results()\n",
    "print(result)"
   ]
  },
  {
   "cell_type": "markdown",
   "metadata": {},
   "source": [
    "#### Displaying Errors\n",
    "\n",
    "Of course, not all of your queries will finish without errors. If get_state returns an 'error', call the .get_error() method to show some more details:"
   ]
  },
  {
   "cell_type": "code",
   "execution_count": 19,
   "metadata": {
    "scrolled": true
   },
   "outputs": [
    {
     "name": "stdout",
     "output_type": "stream",
     "text": [
      "running\n",
      "error\n",
      "2021-01-19T15:50:55Z | dq0.sql.runner | INFO | [__KEYWORD_STARTED__] Started with args: Namespace(_loglevel='debug', epsilon=1.0, meta=['bmFtZTogY3BnX3NlZ21lbnRzCmRlc2NyaXB0aW9uOiBzb21lIGRlc2NyaXB0aW9uCnR5cGU6IENTVgpjb25uZWN0aW9uOiBmaWxlOi8vL1VzZXJzL2RvbWluaWMvUHJvamVjdHMvZHEwLXNxbC90ZXN0cy9kYXRhL2NwZ19zZWdtZW50cy5jc3YKcHJpdmFjeV9idWRnZXQ6IDEwMDAKcHJpdmFjeV9idWRnZXRfaW50ZXJ2YWxfZGF5czogMzAKc3ludGhfYWxsb3dlZDogZmFsc2UKcHJpdmFjeV9sZXZlbDogMgpwcml2YWN5X2NvbHVtbjogaWRsCnNpemU6IDEwMDAKTFI6CiAgY3BnX3NlZ21lbnRzOgogICAgcm93X3ByaXZhY3k6IGZhbHNlCiAgICByb3dzOiAxMDAwCiAgICBtYXhfaWRzOiAxCiAgICBzYW1wbGVfbWF4X2lkczogdHJ1ZQogICAgY2Vuc29yX2RpbXM6IHRydWUKICAgIGNsYW1wX2NvdW50czogZmFsc2UKICAgIGNsYW1wX2NvbHVtbnM6IHRydWUKICAgIGlkbDoKICAgICAgcHJpdmF0ZV9pZDogdHJ1ZQogICAgICB0eXBlOiBzdHJpbmcKICAgIGFjdGl2ZV9jb21wbGFpbnQ6CiAgICAgIHR5cGU6IGludAogICAgbG95YWx0eV90aWVyczoKICAgICAgdHlwZTogc3RyaW5nCg=='], metapath=[], param=None, private_column='idl', query='foo', tau=None, tracker_group_uuid='38', tracker_output_path=None, tracker_run_uuid='e4378645-709d-432e-afef-241a4efcbb25', tracker_type='mlflow')\n",
      "2021-01-19T15:50:55Z | dq0 | ERROR | Traceback (most recent call last):\n",
      "2021-01-19T15:50:55Z | dq0 | ERROR |   File \"/Users/dominic/opt/miniconda3/envs/dq0/lib/python3.7/runpy.py\", line 193, in _run_module_as_main\n",
      "2021-01-19T15:50:55Z | dq0 | ERROR | \"__main__\", mod_spec)\n",
      "2021-01-19T15:50:55Z | dq0 | ERROR |   File \"/Users/dominic/opt/miniconda3/envs/dq0/lib/python3.7/runpy.py\", line 85, in _run_code\n",
      "2021-01-19T15:50:55Z | dq0 | ERROR | exec(code, run_globals)\n",
      "2021-01-19T15:50:55Z | dq0 | ERROR |   File \"/Users/dominic/Projects/dq0-sql/dq0/sql/__main__.py\", line 141, in <module>\n",
      "2021-01-19T15:50:55Z | dq0 | ERROR | run()\n",
      "2021-01-19T15:50:55Z | dq0 | ERROR |   File \"/Users/dominic/Projects/dq0-sql/dq0/sql/__main__.py\", line 131, in run\n",
      "2021-01-19T15:50:55Z | dq0 | ERROR | ret = instance.run()\n",
      "2021-01-19T15:50:55Z | dq0 | ERROR |   File \"/Users/dominic/Projects/dq0-sql/dq0/sql/runner.py\", line 268, in run\n",
      "2021-01-19T15:50:55Z | dq0 | ERROR | ret = self.prepare_metadata()\n",
      "2021-01-19T15:50:55Z | dq0 | ERROR |   File \"/Users/dominic/Projects/dq0-sql/dq0/sql/runner.py\", line 117, in prepare_metadata\n",
      "2021-01-19T15:50:55Z | dq0 | ERROR | queries = QueryParser(sm_meta).queries(self.query)\n",
      "2021-01-19T15:50:55Z | dq0 | ERROR |   File \"/Users/dominic/Projects/dq0-sql/opendp/smartnoise/sql/parse.py\", line 31, in queries\n",
      "2021-01-19T15:50:55Z | dq0 | ERROR | queries = [q for q in bv.visit(parser.batch()).queries]\n",
      "2021-01-19T15:50:55Z | dq0 | ERROR |   File \"/Users/dominic/Projects/dq0-sql/opendp/smartnoise/sql/parser/SqlSmallParser.py\", line 608, in batch\n",
      "2021-01-19T15:50:55Z | dq0 | ERROR | self.query()\n",
      "2021-01-19T15:50:55Z | dq0 | ERROR |   File \"/Users/dominic/Projects/dq0-sql/opendp/smartnoise/sql/parser/SqlSmallParser.py\", line 703, in query\n",
      "2021-01-19T15:50:55Z | dq0 | ERROR | self.selectClause()\n",
      "2021-01-19T15:50:55Z | dq0 | ERROR |   File \"/Users/dominic/Projects/dq0-sql/opendp/smartnoise/sql/parser/SqlSmallParser.py\", line 953, in selectClause\n",
      "2021-01-19T15:50:55Z | dq0 | ERROR | self.match(SqlSmallParser.SELECT)\n",
      "2021-01-19T15:50:55Z | dq0 | ERROR |   File \"/Users/dominic/opt/miniconda3/envs/dq0/lib/python3.7/site-packages/antlr4/Parser.py\", line 121, in match\n",
      "2021-01-19T15:50:55Z | dq0 | ERROR | t = self._errHandler.recoverInline(self)\n",
      "2021-01-19T15:50:55Z | dq0 | ERROR |   File \"/Users/dominic/opt/miniconda3/envs/dq0/lib/python3.7/site-packages/antlr4/error/ErrorStrategy.py\", line 392, in recoverInline\n",
      "2021-01-19T15:50:55Z | dq0 | ERROR | if self.singleTokenInsertion(recognizer):\n",
      "2021-01-19T15:50:55Z | dq0 | ERROR |   File \"/Users/dominic/opt/miniconda3/envs/dq0/lib/python3.7/site-packages/antlr4/error/ErrorStrategy.py\", line 425, in singleTokenInsertion\n",
      "2021-01-19T15:50:55Z | dq0 | ERROR | self.reportMissingToken(recognizer)\n",
      "2021-01-19T15:50:55Z | dq0 | ERROR |   File \"/Users/dominic/opt/miniconda3/envs/dq0/lib/python3.7/site-packages/antlr4/error/ErrorStrategy.py\", line 333, in reportMissingToken\n",
      "2021-01-19T15:50:55Z | dq0 | ERROR | recognizer.notifyErrorListeners(msg, t, None)\n",
      "2021-01-19T15:50:55Z | dq0 | ERROR |   File \"/Users/dominic/opt/miniconda3/envs/dq0/lib/python3.7/site-packages/antlr4/Parser.py\", line 317, in notifyErrorListeners\n",
      "2021-01-19T15:50:55Z | dq0 | ERROR | listener.syntaxError(self, offendingToken, line, column, msg, e)\n",
      "2021-01-19T15:50:55Z | dq0 | ERROR |   File \"/Users/dominic/opt/miniconda3/envs/dq0/lib/python3.7/site-packages/antlr4/error/ErrorListener.py\", line 60, in syntaxError\n",
      "2021-01-19T15:50:55Z | dq0 | ERROR | delegate.syntaxError(recognizer, offendingSymbol, line, column, msg, e)\n",
      "2021-01-19T15:50:55Z | dq0 | ERROR |   File \"/Users/dominic/Projects/dq0-sql/opendp/smartnoise/sql/parser/SqlSmallErrorListener.py\", line 10, in syntaxError\n",
      "2021-01-19T15:50:55Z | dq0 | ERROR | raise ValueError(\"Bad token {0} at line {1} column {2}.  Message: {3}\".format(offendingToken.text, line, column, msg))\n",
      "2021-01-19T15:50:55Z | dq0 | ERROR | ValueError\n",
      "2021-01-19T15:50:55Z | dq0 | ERROR | :\n",
      "2021-01-19T15:50:55Z | dq0 | ERROR | Bad token foo at line 1 column 0.  Message: missing SELECT at 'foo'\n",
      "\n"
     ]
    }
   ],
   "source": [
    "run2 = query.execute('foo')\n",
    "run2.wait_for_completion()\n",
    "run2.get_error()"
   ]
  },
  {
   "cell_type": "markdown",
   "metadata": {},
   "source": [
    "#### Setting query parameters\n",
    "The above run uses the default parameters defined by the execute() method for this query. These are:\n",
    "\n",
    "    * epsilon: float; Epsilon value for differential private query. Default: 1.0\n",
    "            \n",
    "    * tau: float; Tau threshold value for private query. Default: 0.0\n",
    "            \n",
    "    * private_column: string; Private column for this query. Leave empty or omit for default value from metadata.\n",
    "\n",
    "Naturally we can adjust these:"
   ]
  },
  {
   "cell_type": "code",
   "execution_count": 20,
   "metadata": {},
   "outputs": [
    {
     "name": "stdout",
     "output_type": "stream",
     "text": [
      "Waiting for job to complete...\n",
      "running\n",
      "running\n",
      "finished\n",
      "finished\n",
      "Job completed\n",
      "finished\n"
     ]
    },
    {
     "data": {
      "text/plain": [
       "'0x4e9b,tx_count,c_loyalty_tiers\\n2556,2548,silver\\n'"
      ]
     },
     "execution_count": 20,
     "metadata": {},
     "output_type": "execute_result"
    }
   ],
   "source": [
    "run3 = query.execute(stmt, epsilon=1.5, tau=100, private_column='idl')\n",
    "run3.wait_for_completion(verbose=True)\n",
    "run3.get_results()\n",
    "# the results are now also stored in run2.state.results"
   ]
  },
  {
   "cell_type": "markdown",
   "metadata": {},
   "source": [
    "#### Visualizing results\n",
    "The get_results() method returns the raw result payload as a string. Usually, this payload comes in CSV format. Here we pandas to display this data."
   ]
  },
  {
   "cell_type": "code",
   "execution_count": 21,
   "metadata": {
    "scrolled": true
   },
   "outputs": [
    {
     "data": {
      "text/html": [
       "<div>\n",
       "<style scoped>\n",
       "    .dataframe tbody tr th:only-of-type {\n",
       "        vertical-align: middle;\n",
       "    }\n",
       "\n",
       "    .dataframe tbody tr th {\n",
       "        vertical-align: top;\n",
       "    }\n",
       "\n",
       "    .dataframe thead th {\n",
       "        text-align: right;\n",
       "    }\n",
       "</style>\n",
       "<table border=\"1\" class=\"dataframe\">\n",
       "  <thead>\n",
       "    <tr style=\"text-align: right;\">\n",
       "      <th></th>\n",
       "      <th>0x4e9b</th>\n",
       "      <th>tx_count</th>\n",
       "      <th>c_loyalty_tiers</th>\n",
       "    </tr>\n",
       "  </thead>\n",
       "  <tbody>\n",
       "    <tr>\n",
       "      <th>0</th>\n",
       "      <td>2556</td>\n",
       "      <td>2548</td>\n",
       "      <td>silver</td>\n",
       "    </tr>\n",
       "  </tbody>\n",
       "</table>\n",
       "</div>"
      ],
      "text/plain": [
       "   0x4e9b  tx_count c_loyalty_tiers\n",
       "0    2556      2548          silver"
      ]
     },
     "execution_count": 21,
     "metadata": {},
     "output_type": "execute_result"
    }
   ],
   "source": [
    "import pandas as pd\n",
    "from io import StringIO\n",
    "\n",
    "result_str = run3.state.results\n",
    "\n",
    "df = pd.read_csv(StringIO(result_str))\n",
    "df"
   ]
  }
 ],
 "metadata": {
  "kernelspec": {
   "display_name": "Python 3",
   "language": "python",
   "name": "python3"
  },
  "language_info": {
   "codemirror_mode": {
    "name": "ipython",
    "version": 3
   },
   "file_extension": ".py",
   "mimetype": "text/x-python",
   "name": "python",
   "nbconvert_exporter": "python",
   "pygments_lexer": "ipython3",
   "version": "3.7.7"
  }
 },
 "nbformat": 4,
 "nbformat_minor": 4
}
