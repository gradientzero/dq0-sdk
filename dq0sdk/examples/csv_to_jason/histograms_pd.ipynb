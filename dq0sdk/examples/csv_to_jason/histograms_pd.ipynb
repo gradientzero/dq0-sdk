{
 "cells": [
  {
   "cell_type": "markdown",
   "metadata": {},
   "source": [
    "# Differentially Private Histograms"
   ]
  },
  {
   "cell_type": "markdown",
   "metadata": {},
   "source": [
    "## Plotting the distribution of ages in `Adult`"
   ]
  },
  {
   "cell_type": "code",
   "execution_count": null,
   "metadata": {},
   "outputs": [],
   "source": [
    "import numpy as np\n",
    "import pandas as pd\n",
    "from diffprivlib import tools as dp\n",
    "import matplotlib.pyplot as plt\n",
    "import datetime\n",
    "import random\n",
    "\n",
    "from dq0sdk.data.utils.dp_methods import _dp_stats"
   ]
  },
  {
   "cell_type": "markdown",
   "metadata": {},
   "source": [
    "We first read in the list of ages in the Adult UCI dataset (the first column)."
   ]
  },
  {
   "cell_type": "code",
   "execution_count": null,
   "metadata": {},
   "outputs": [],
   "source": [
    "usecols=None#[0,2,4,12]\n",
    "ages_adult_df = pd.read_csv(\"https://archive.ics.uci.edu/ml/machine-learning-databases/adult/adult.data\",\n",
    "                         usecols=usecols, header=None)\n",
    "# add more data types\n",
    "ts = pd.Timestamp(datetime.datetime.now())\n",
    "ages_adult_df[15]=pd.Timedelta('1 days')*int(np.random.sample(1)[0]*10)\n",
    "ages_adult_df[16]=ages_adult_df[15]+ts\n",
    "ages_adult_df[17]=[bool(random.getrandbits(1)) for _ in range(ages_adult_df.shape[0])]\n",
    "ages_adult_df[0]=ages_adult_df[0].astype(float)\n",
    "ages_adult_df[1]=ages_adult_df[1].astype('category')\n",
    "\n",
    "print(ages_adult_df.dtypes)"
   ]
  },
  {
   "cell_type": "code",
   "execution_count": null,
   "metadata": {},
   "outputs": [],
   "source": [
    "content = ages_adult_df\n",
    "mean, std, hist = _dp_stats(content, epsilon=1, randomize_range=False)\n"
   ]
  },
  {
   "cell_type": "markdown",
   "metadata": {},
   "source": [
    "### All the warnings above result from not setting the range\n",
    "\n",
    "### All the warnings below are from the histograms for none numeric data, where rnge is set to None"
   ]
  },
  {
   "cell_type": "code",
   "execution_count": null,
   "metadata": {
    "scrolled": false
   },
   "outputs": [],
   "source": [
    "epsilon = 0.005\n",
    "\n",
    "dp_mean, dp_std, dp_hist = _dp_stats(content, epsilon)\n",
    "\n",
    "nrows = len(dp_hist)//2+len(dp_hist)%2\n",
    "fig, axes = plt.subplots(nrows, 2, figsize=(16,nrows*6))\n",
    "for ii, (_dp_hist, _hist) in enumerate(zip(dp_hist, hist)):\n",
    "    axes[ii//2,ii%2].bar(_hist[1][:-1], _hist[0], width=(_hist[1][1]-_hist[1][0]) * 0.9)\n",
    "    axes[ii//2,ii%2].bar(_dp_hist[1][:-1], _dp_hist[0], width=(_dp_hist[1][1]-_dp_hist[1][0]) * 0.9, alpha=0.5)\n",
    "    axes[ii//2,ii%2].set_title(str(content.dtypes.values[ii]))\n",
    "axes[0,0].legend(['no dp','dp'])"
   ]
  },
  {
   "cell_type": "code",
   "execution_count": null,
   "metadata": {},
   "outputs": [],
   "source": []
  },
  {
   "cell_type": "markdown",
   "metadata": {},
   "source": [
    "## The original content from diffpriv"
   ]
  },
  {
   "cell_type": "code",
   "execution_count": null,
   "metadata": {},
   "outputs": [],
   "source": [
    "ages_adult = np.loadtxt(\"https://archive.ics.uci.edu/ml/machine-learning-databases/adult/adult.data\",\n",
    "                        usecols=0, delimiter=\", \")"
   ]
  },
  {
   "cell_type": "markdown",
   "metadata": {},
   "source": [
    "Using Numpy's native `histogram` function, we can find the distribution of ages, as determined by ten equally-spaced bins calculated by `histogram`."
   ]
  },
  {
   "cell_type": "code",
   "execution_count": null,
   "metadata": {},
   "outputs": [],
   "source": [
    "hist, bins = np.histogram(ages_adult)\n",
    "hist = hist / hist.sum()"
   ]
  },
  {
   "cell_type": "markdown",
   "metadata": {},
   "source": [
    "Using `matplotlib.pyplot`, we can plot a barchart of the histogram distribution."
   ]
  },
  {
   "cell_type": "code",
   "execution_count": null,
   "metadata": {},
   "outputs": [],
   "source": [
    "plt.bar(bins[:-1], hist, width=(bins[1]-bins[0]) * 0.9)\n",
    "plt.show()"
   ]
  },
  {
   "cell_type": "markdown",
   "metadata": {},
   "source": [
    "## Differentially private histograms"
   ]
  },
  {
   "cell_type": "markdown",
   "metadata": {},
   "source": [
    "Using `diffprivlib`, we can calculate a differentially private version of the histogram. For this example, we use the default settings:\n",
    "- `epsilon` is 1.0\n",
    "- `range` is not specified, so is calculated by the function on-the-fly. This throws a warning, as it leaks privacy about the data (from `dp_bins`, we know that there are people in the dataset aged 17 and 90)."
   ]
  },
  {
   "cell_type": "code",
   "execution_count": null,
   "metadata": {},
   "outputs": [],
   "source": [
    "dp_hist, dp_bins = dp.histogram(ages_adult)\n",
    "dp_hist = dp_hist / dp_hist.sum()\n",
    "\n",
    "plt.bar(dp_bins[:-1], dp_hist, width=(dp_bins[1] - dp_bins[0]) * 0.9)\n",
    "plt.show()"
   ]
  },
  {
   "cell_type": "markdown",
   "metadata": {},
   "source": [
    "**Privacy Leak:** In this setting, we know for sure that at least one person in the dataset is aged 17, and another is aged 90."
   ]
  },
  {
   "cell_type": "code",
   "execution_count": null,
   "metadata": {},
   "outputs": [],
   "source": [
    "dp_bins[0], dp_bins[-1]"
   ]
  },
  {
   "cell_type": "markdown",
   "metadata": {},
   "source": [
    "**Mirroring the behaviour of `np.histogram`:** We can see that the bins returned by `diffprivlib.tools.histogram` are identical to those given by `numpy.histogram`."
   ]
  },
  {
   "cell_type": "code",
   "execution_count": null,
   "metadata": {},
   "outputs": [],
   "source": [
    "np.all(dp_bins == bins)"
   ]
  },
  {
   "cell_type": "markdown",
   "metadata": {},
   "source": [
    "**Error:** We can see very little difference in the values of the histgram. In fact, we see an aggregate absolute error across all bins of the order of 0.01%. This is expected, due to the large size of the dataset (`n=48842`). "
   ]
  },
  {
   "cell_type": "code",
   "execution_count": null,
   "metadata": {},
   "outputs": [],
   "source": [
    "print(\"Total histogram error: %f\" % np.abs(hist - dp_hist).sum())"
   ]
  },
  {
   "cell_type": "markdown",
   "metadata": {},
   "source": [
    "**Effect of `epsilon`:** If we decrease `epsilon` (i.e. **increase** the privacy guarantee), the error will increase."
   ]
  },
  {
   "cell_type": "code",
   "execution_count": null,
   "metadata": {},
   "outputs": [],
   "source": [
    "dp_hist, dp_bins = dp.histogram(ages_adult, epsilon=0.001)\n",
    "dp_hist = dp_hist / dp_hist.sum()\n",
    "\n",
    "print(\"Total histogram error: %f\" % np.abs(hist - dp_hist).sum())\n",
    "plt.bar(dp_bins[:-1], dp_hist, width=(dp_bins[1] - dp_bins[0]) * 0.9)\n",
    "plt.show()"
   ]
  },
  {
   "cell_type": "code",
   "execution_count": null,
   "metadata": {},
   "outputs": [],
   "source": [
    "dp.mean(ages_adult, epsilon=0.001)\n",
    "dp.std(ages_adult, epsilon=0.001)\n"
   ]
  },
  {
   "cell_type": "markdown",
   "metadata": {},
   "source": [
    "## Deciding on the `range` parameter"
   ]
  },
  {
   "cell_type": "markdown",
   "metadata": {},
   "source": [
    "We know from the [dataset description](https://archive.ics.uci.edu/ml/datasets/adult) that everyone in the dataset is at least 17 years of age. We don't know off-hand what the upper bound is, so for this example we'll set the upper bound to `100`. As of 2019, less than 0.005% of the world's population is [aged over 100](https://en.wikipedia.org/wiki/Centenarian), so this is an appropriate simplification. Values in the dataset above 100 will be excluded from calculations."
   ]
  },
  {
   "cell_type": "markdown",
   "metadata": {},
   "source": [
    "An `epsilon` of 0.1 still preserves the broad structure of the histogram."
   ]
  },
  {
   "cell_type": "code",
   "execution_count": null,
   "metadata": {},
   "outputs": [],
   "source": [
    "epsilon=0.005\n",
    "range=(17, 100)\n",
    "\n",
    "print('data size: %d' % len(ages_adult))\n",
    "\n",
    "hist, bins = np.histogram(ages_adult)\n",
    "hist = hist / hist.sum()\n",
    "\n",
    "dp_hist2, dp_bins2 = dp.histogram(ages_adult, epsilon=epsilon, range=range)\n",
    "dp_hist2 = dp_hist2 / dp_hist2.sum()\n",
    "\n",
    "dp_mean2 = dp.mean(ages_adult, epsilon=epsilon, range=range[1])\n",
    "dp_std2 = dp.std(ages_adult, epsilon=epsilon, range=range[1])\n",
    "\n",
    "print(\"mean: {:8.6f} +- {:8.6f}\".format(dp_mean2, np.abs(np.mean(ages_adult) - dp_mean2)))\n",
    "print(\"std: {:8.6f} +- {:8.6f}\".format(dp_std2, np.abs(np.std(ages_adult) - dp_std2)))\n",
    "\n",
    "print(\"Total histogram error: %f\" % np.abs(hist - dp_hist2).sum())\n",
    "plt.bar(dp_bins2[:-1], dp_hist2, width=(dp_bins2[1] - dp_bins2[0]) * 0.9)\n",
    "plt.show()"
   ]
  },
  {
   "cell_type": "markdown",
   "metadata": {},
   "source": [
    "## Error for smaller datasets"
   ]
  },
  {
   "cell_type": "markdown",
   "metadata": {},
   "source": [
    "Let's repeate the first experiments above with a smaller dataset, this time the [Cleveland heart disease dataset](https://archive.ics.uci.edu/ml/datasets/heart+Disease) from the UCI Repository. This dataset has 303 samples, a small fractin of the Adult dataset processed previously."
   ]
  },
  {
   "cell_type": "code",
   "execution_count": null,
   "metadata": {},
   "outputs": [],
   "source": [
    "ages_heart = np.loadtxt(\"https://archive.ics.uci.edu/ml/machine-learning-databases/heart-disease/processed.cleveland.data\",\n",
    "                        usecols=0, delimiter=\",\")"
   ]
  },
  {
   "cell_type": "markdown",
   "metadata": {},
   "source": [
    "We first find the histogram distribution using `numpy.histogram`."
   ]
  },
  {
   "cell_type": "code",
   "execution_count": null,
   "metadata": {},
   "outputs": [],
   "source": [
    "heart_hist, heart_bins = np.histogram(ages_heart)\n",
    "heart_hist = heart_hist / heart_hist.sum()"
   ]
  },
  {
   "cell_type": "markdown",
   "metadata": {},
   "source": [
    "And then find the histogram distribution using `diffprivlib.histogram`, using the defaults as before (with the accompanying warning)."
   ]
  },
  {
   "cell_type": "code",
   "execution_count": null,
   "metadata": {},
   "outputs": [],
   "source": [
    "dp_heart_hist, dp_heart_bins = dp.histogram(ages_heart)\n",
    "dp_heart_hist = dp_heart_hist / dp_heart_hist.sum()"
   ]
  },
  {
   "cell_type": "markdown",
   "metadata": {},
   "source": [
    "And double-check that the bins are the same."
   ]
  },
  {
   "cell_type": "code",
   "execution_count": null,
   "metadata": {},
   "outputs": [],
   "source": [
    "np.all(heart_bins == dp_heart_bins)"
   ]
  },
  {
   "cell_type": "markdown",
   "metadata": {},
   "source": [
    "We then see that the error this time is 3%, a 100-fold increase in error."
   ]
  },
  {
   "cell_type": "code",
   "execution_count": null,
   "metadata": {},
   "outputs": [],
   "source": [
    "print(\"Total histogram error: %f\" % np.abs(heart_hist - dp_heart_hist).sum())"
   ]
  },
  {
   "cell_type": "markdown",
   "metadata": {},
   "source": [
    "## Mirroring Numpy's behaviour"
   ]
  },
  {
   "cell_type": "markdown",
   "metadata": {},
   "source": [
    "We can evaluate `diffprivlib.models.histogram` without any privacy by setting `epsilon = float(\"inf\")`. This should give the exact same result as running `numpy.histogram`."
   ]
  },
  {
   "cell_type": "code",
   "execution_count": null,
   "metadata": {},
   "outputs": [],
   "source": [
    "heart_hist, _ = np.histogram(ages_heart)\n",
    "dp_heart_hist, _ = dp.histogram(ages_heart, epsilon=float(\"inf\"))\n",
    "\n",
    "np.all(heart_hist == dp_heart_hist)"
   ]
  },
  {
   "cell_type": "code",
   "execution_count": null,
   "metadata": {},
   "outputs": [],
   "source": []
  },
  {
   "cell_type": "code",
   "execution_count": null,
   "metadata": {},
   "outputs": [],
   "source": []
  }
 ],
 "metadata": {
  "kernelspec": {
   "display_name": "Python 3",
   "language": "python",
   "name": "python3"
  },
  "language_info": {
   "codemirror_mode": {
    "name": "ipython",
    "version": 3
   },
   "file_extension": ".py",
   "mimetype": "text/x-python",
   "name": "python",
   "nbconvert_exporter": "python",
   "pygments_lexer": "ipython3",
   "version": "3.7.5"
  }
 },
 "nbformat": 4,
 "nbformat_minor": 2
}
